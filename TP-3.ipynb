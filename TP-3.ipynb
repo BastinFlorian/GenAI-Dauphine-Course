{
 "cells": [
  {
   "cell_type": "markdown",
   "metadata": {
    "id": "Wil1STmDlEVy"
   },
   "source": [
    "## Building a Retrieval-Augmented Generation (RAG) System with LangChain\n",
    "\n",
    "### Introduction\n",
    "\n",
    "In this notebook, we will learn how to build a Retrieval-Augmented Generation (RAG) system using LangChain in Python. RAG systems combine information retrieval and natural language generation to produce answers that are grounded in external knowledge bases. This approach is particularly useful when dealing with large documents or datasets where direct querying isn’t efficient or possible.\n",
    "\n",
    "### Objectives\n",
    "\n",
    "- Understand the concept of Retrieval-Augmented Generation (RAG).\n",
    "- Learn how to use LangChain to implement a RAG system.\n",
    "- Implement the system step by step with guided TODO tasks.\n",
    "- Test your implementation at each step.\n",
    "- Provide helpful explanations and definitions.\n",
    "\n",
    "Help\n",
    "\n",
    "### Methods Used:\n",
    "\n",
    "- LangChain: A library for building language model applications.\n",
    "- VectorStore (FAISS): A tool for efficient similarity search and clustering of dense vectors.\n",
    "- OpenAI Embeddings: Representations of text that can capture semantic meaning.\n",
    "- RetrievalQA Chain: Combines retrieval and question-answering over documents.\n",
    "\n",
    "### Data Used\n",
    "\n",
    "- I extracted some chapters of the Gen AI course as a txt file.\n",
    "- The goal how this notebook is to build a RAG system that can answer questions based on the content of these chapters."
   ]
  },
  {
   "cell_type": "markdown",
   "metadata": {
    "id": "Z5K09LMalEV3"
   },
   "source": [
    "## Step 1: Set Up Your Environment\n",
    "\n",
    "We need to import the required modules and set up the OpenAI API key."
   ]
  },
  {
   "cell_type": "code",
   "execution_count": 40,
   "metadata": {
    "id": "IyceGQBilEV4"
   },
   "outputs": [],
   "source": [
    "# Import necessary libraries\n",
    "import sys\n",
    "from dotenv import load_dotenv\n",
    "from langchain import hub\n",
    "from langchain_google_genai import GoogleGenerativeAIEmbeddings\n",
    "from langchain_google_genai import ChatGoogleGenerativeAI\n",
    "from langchain.vectorstores import FAISS\n",
    "from langchain.text_splitter import RecursiveCharacterTextSplitter\n",
    "from langchain.document_loaders import TextLoader\n",
    "from langchain_core.output_parsers import StrOutputParser\n",
    "from langchain_core.runnables import RunnablePassthrough\n",
    "from langchain_core.documents.base import Document\n",
    "from langchain_core.prompts import ChatPromptTemplate\n",
    "from typing import List\n",
    "from langchain import LLMChain "
   ]
  },
  {
   "cell_type": "code",
   "execution_count": 41,
   "metadata": {},
   "outputs": [],
   "source": [
    "load_dotenv(dotenv_path=r'C:\\Users\\USER\\Desktop\\GENERATIVE AI DAUPHINE\\GenAI-Dauphine-Course\\env.template')\n",
    "sys.path.append(\"../\")"
   ]
  },
  {
   "cell_type": "code",
   "execution_count": 42,
   "metadata": {},
   "outputs": [
    {
     "name": "stdout",
     "output_type": "stream",
     "text": [
      "Variables d'environnement chargées avec succès.\n"
     ]
    }
   ],
   "source": [
    "from dotenv import load_dotenv\n",
    "import os\n",
    "\n",
    "# Charger les variables d'environnement\n",
    "success = load_dotenv(dotenv_path='.env.template')\n",
    "\n",
    "if success:\n",
    "    print(\"Variables d'environnement chargées avec succès.\")\n",
    "else:\n",
    "    print(\"Erreur lors du chargement des variables d'environnement.\")\n"
   ]
  },
  {
   "cell_type": "code",
   "execution_count": 43,
   "metadata": {
    "colab": {
     "base_uri": "https://localhost:8080/"
    },
    "id": "2ShjtaELn-xQ",
    "outputId": "f912c917-791f-4f3f-b2e3-a31ec2b28ad2"
   },
   "outputs": [
    {
     "name": "stdout",
     "output_type": "stream",
     "text": [
      "Clé API Google chargée avec succès.\n"
     ]
    }
   ],
   "source": [
    "from dotenv import load_dotenv\n",
    "\n",
    "# Charger les variables d'environnement\n",
    "load_dotenv(dotenv_path='.env.template')\n",
    "\n",
    "# Vérifiez si les variables sont chargées correctement\n",
    "import os\n",
    "google_key = os.getenv(\"GOOGLE_API_KEY\")\n",
    "\n",
    "if google_key:\n",
    "    print(\"Clé API Google chargée avec succès.\")\n",
    "else:\n",
    "    print(\"Erreur: Clé API Google non chargée.\")\n",
    "    # Afficher toutes les variables d'environnement pour déboguer\n",
    "    print(\"Variables d'environnement actuelles:\", os.environ)"
   ]
  },
  {
   "cell_type": "markdown",
   "metadata": {
    "id": "5mOlyYVslEV7"
   },
   "source": [
    "## Step 2: Load and Split Documents\n",
    "\n",
    "Load the document you want to use and split it into manageable chunks."
   ]
  },
  {
   "cell_type": "code",
   "execution_count": 44,
   "metadata": {
    "id": "VpsLbSYau0Uv"
   },
   "outputs": [],
   "source": [
    "# Load your document and split it into chunks\n",
    "# Hint: Use TextLoader and RecursiveCharacterTextSplitter\n",
    "\n",
    "# Specify the filename\n",
    "filename = r\"C:\\Users\\USER\\Desktop\\GENERATIVE AI DAUPHINE\\GenAI-Dauphine-Course\\data\\gen_ai_course.txt\"\n",
    "\n",
    "# Load the document\n",
    "loader = TextLoader(filename, encoding='utf-8')\n",
    "documents = loader.load()\n",
    "\n",
    "# Split the documents into chunks\n",
    "text_splitter = RecursiveCharacterTextSplitter(chunk_size=500, chunk_overlap=50)\n",
    "docs = text_splitter.split_documents(documents)"
   ]
  },
  {
   "cell_type": "code",
   "execution_count": 45,
   "metadata": {},
   "outputs": [
    {
     "name": "stdout",
     "output_type": "stream",
     "text": [
      "Number of chunks created: 243\n"
     ]
    }
   ],
   "source": [
    "# Output the number of chunks created for verification\n",
    "print(f\"Number of chunks created: {len(docs)}\")"
   ]
  },
  {
   "cell_type": "markdown",
   "metadata": {
    "id": "Pc8iZYjRlEV9"
   },
   "source": [
    "## Step 3: Create Embeddings and Build the VectorStore\n",
    "\n",
    "Generate embeddings for each chunk and store them in a vector store for efficient retrieval."
   ]
  },
  {
   "cell_type": "code",
   "execution_count": 46,
   "metadata": {},
   "outputs": [],
   "source": [
    "# Create embeddings and store them in a VectorStore\n",
    "#embeddings = GoogleGenerativeAIEmbeddings(model=\"text-embedding-ada-002\")\n",
    "embeddings = GoogleGenerativeAIEmbeddings(model=\"models/embedding-001\")\n",
    "# Create a FAISS vector store for efficient similarity search\n",
    "vector_store = FAISS.from_documents(docs, embeddings)"
   ]
  },
  {
   "cell_type": "code",
   "execution_count": 47,
   "metadata": {},
   "outputs": [
    {
     "name": "stdout",
     "output_type": "stream",
     "text": [
      "[-0.005807802546769381, -0.016429657116532326, 0.013996670953929424, -0.030927123501896858, 0.054504286497831345, -0.015225336886942387, -0.010164381936192513, 0.016435004770755768, 0.044515300542116165, 0.024288734421133995, 0.03959793969988823, 0.031120670959353447, 0.006636400241404772, -0.019907498732209206, -0.010129876434803009, -0.062123462557792664, 0.013115126639604568, 0.050864387303590775, 0.020333316177129745, -0.020906612277030945, -0.010220176540315151, 0.04769838601350784, 0.012790014035999775, -0.0372074693441391, 0.048084769397974014, -0.03612648695707321, 0.00975894182920456, -0.05787339434027672, -0.04003853350877762, 0.05130202695727348, -0.06563553214073181, 0.015496921725571156, -0.06580051779747009, -0.026914644986391068, 0.01033852994441986, -0.047606322914361954, 0.027343878522515297, 0.03338739648461342, 0.04223555326461792, -0.0016030212864279747, -0.022290769964456558, 0.013075722381472588, -0.006281361449509859, -0.04385257139801979, 0.02721501886844635, 0.004777917638421059, 0.026925092563033104, 0.029928090050816536, -0.04322278872132301, -0.0006608191761188209, 0.005276009440422058, 0.02451864443719387, 0.032278236001729965, -0.05009116977453232, -0.0017449039733037353, -0.027146009728312492, 0.012516491115093231, 0.0005717260064557195, -0.02241135947406292, 0.04914390295743942, 0.0023442301899194717, -0.0344194732606411, -0.021667880937457085, 0.06470496952533722, -0.004711105488240719, 0.022524546831846237, -0.026474276557564735, 0.023676449432969093, 0.014661623165011406, -0.026308339089155197, -0.00494054751470685, -0.011072533205151558, 0.07888740301132202, 0.038321077823638916, -0.030572155490517616, -0.057083599269390106, -0.025001749396324158, 0.06106116250157356, 0.06185680627822876, 0.04342277720570564, 0.03570098057389259, -0.07260274142026901, -0.05665174126625061, -0.0417737141251564, -0.1058691069483757, 0.032466087490320206, -0.044448547065258026, 0.0028529870323836803, -0.03786773607134819, 0.020341742783784866, 0.014689858071506023, 0.028726479038596153, 0.0147577915340662, -0.05864021182060242, 0.018109437078237534, 0.040006279945373535, -0.003954284358769655, -0.02272631973028183, -0.0025579403154551983, -0.05006837472319603, -0.0033132610842585564, 0.00476412195712328, -0.030940959230065346, -0.034600161015987396, -0.001243807841092348, 0.02197757177054882, 0.026963384822010994, 0.051034003496170044, 0.025681883096694946, 0.035756975412368774, -0.013272162526845932, -0.04416899010539055, 0.022920571267604828, -0.0022137584164738655, -0.023685278370976448, -0.0069146351888775826, 0.02110140025615692, 0.047085992991924286, 0.08960805088281631, 0.01069621555507183, -0.013937407173216343, 0.040031902492046356, 0.08823970705270767, 0.018963463604450226, 0.017626235261559486, 0.005430259276181459, 0.01007087156176567, 0.020045533776283264, 0.02966511994600296, 0.032855335623025894, 0.00966297835111618, -0.05940597504377365, 0.00473026605322957, 0.0018964955816045403, 0.03358989208936691, 0.038752488791942596, 0.010792534798383713, 0.02797711081802845, 0.05695052072405815, 0.0976528599858284, 0.005214806646108627, 0.0008838757639750838, -0.05653639882802963, 0.06772640347480774, -0.027532346546649933, 0.05614003539085388, 0.0019142376258969307, -0.056927639991045, 0.06670599430799484, -0.025857871398329735, -0.004055808298289776, 0.06272216886281967, -0.0357939787209034, 0.023478060960769653, 0.06422694027423859, 0.010127090848982334, 0.004312387201935053, 0.027582522481679916, 0.026880482211709023, 0.021781517192721367, 0.09570829570293427, 0.040922775864601135, -0.013431312516331673, 0.025927195325493813, -0.017147080972790718, -0.0374826118350029, 0.008655785582959652, -0.021411795169115067, -0.0023514784406870604, 0.0017955513903871179, -0.0054289852268993855, 0.011654281988739967, -0.004560487344861031, -0.06675826758146286, -0.03550845384597778, -0.008233626373112202, -0.02593349479138851, -0.021713577210903168, -0.022185027599334717, -0.0063439845107495785, 0.0296309906989336, 0.016213644295930862, 0.006568086799234152, 0.04463432729244232, 0.03236760199069977, -0.021452315151691437, 0.022389311343431473, -0.05858055502176285, -0.03815952688455582, 0.02807481959462166, -0.004798875190317631, -0.05101444572210312, -0.006652487441897392, 2.5890072720358148e-05, -0.021929245442152023, 0.05827270448207855, 0.018496718257665634, 0.030303504317998886, 0.03432014584541321, -0.021694453433156013, 0.003386039286851883, 0.09533336758613586, 0.05688386783003807, 0.0022464122157543898, 0.07560747116804123, -0.03350827470421791, 0.02896908111870289, -0.056255828589200974, -0.050745345652103424, 0.033845894038677216, -0.027260739356279373, 0.03719450533390045, -0.06659110635519028, 0.010332407429814339, 0.02279064804315567, 0.009626470506191254, -0.01740112528204918, 0.05080079659819603, -0.038362253457307816, -0.03791927546262741, -0.02186053991317749, -0.05045611038804054, -0.023380765691399574, 0.03628251701593399, -0.01195560023188591, -0.00949593260884285, -0.03506315127015114, 0.05157368257641792, 0.029873985797166824, -0.10017196089029312, 0.011009380221366882, 0.026713788509368896, -0.0018059046706184745, -0.042774710804224014, 0.06583888828754425, -0.02682298608124256, -0.00719344150274992, 0.026341600343585014, -0.028279166668653488, 0.040553174912929535, -0.015605645254254341, -0.01020089816302061, 0.03689027577638626, -0.030514664947986603, -0.05087675526738167, -0.017751367762684822, 0.013952802866697311, 0.023652581498026848, -0.021536247804760933, 0.04802092909812927, 0.003919235896319151, -0.07024912536144257, 0.012537708505988121, 0.06063568964600563, -0.054469868540763855, 0.045189280062913895, -0.09426403790712357, 0.028632326051592827, 0.03925716131925583, 0.024388018995523453, 0.04878317937254906, 0.012149213813245296, 0.02884320542216301, -0.037506282329559326, -0.005754968151450157, 0.008909730240702629, 0.003938164096325636, -0.09290780127048492, 0.015608753077685833, 0.0019398046424612403, -0.002436903538182378, -0.06191238388419151, 0.03495349362492561, -0.04985082149505615, 0.02145330049097538, 0.02722609043121338, -0.06024591252207756, 0.08918417990207672, 0.016151614487171173, -0.07706514000892639, 0.01998244598507881, 0.09311734139919281, 0.0364801399409771, -0.018651191145181656, 0.02234690822660923, -0.01786595582962036, -0.07380889356136322, -0.03211858496069908, 0.019751576706767082, -0.0313245989382267, -0.023837465792894363, -0.022878257557749748, -0.01610104739665985, -0.06046156957745552, -0.037125080823898315, 0.014896804466843605, -0.015889743342995644, 0.03044755384325981, 0.04789992421865463, 0.00665031373500824, 0.009442324750125408, -0.03855128958821297, -0.009745607152581215, -0.06953229755163193, 0.028705904260277748, 0.04807637259364128, -0.004907206632196903, -0.07577665150165558, -0.001720366533845663, 0.011263709515333176, 0.021295951679348946, -0.053085826337337494, -0.03779103606939316, -0.013283106498420238, 0.04692293331027031, 0.021001890301704407, 0.00099053920712322, -0.005413927137851715, -0.026516390964388847, 0.03791358694434166, -0.0027289718855172396, 0.05230993032455444, -0.010260741226375103, -0.01954786479473114, -0.004977780859917402, 0.00765113765373826, 0.004540290683507919, 0.025665536522865295, -0.032090965658426285, 0.024519285187125206, -0.04223187267780304, -0.021814804524183273, 0.03242315351963043, 0.026441389694809914, 0.010870854370296001, 0.001639156718738377, -0.03117281198501587, 0.036730632185935974, -0.011826468631625175, 0.015693558380007744, 0.028858792036771774, 0.0034631770104169846, -0.04879322648048401, -0.023234983906149864, -0.037647783756256104, -0.058063264936208725, -0.010025419294834137, 0.004921510815620422, 0.06001649051904678, 0.016666293144226074, -0.0011123557342216372, 0.02822285331785679, -0.017729148268699646, -0.006388374604284763, -0.018984638154506683, -0.03127266466617584, 0.08344681560993195, -0.028799647465348244, 0.04366717115044594, -0.035161092877388, -0.021696560084819794, 0.09207607805728912, 0.006534887012094259, -0.039390679448843, -0.06262557208538055, 0.034706152975559235, 0.036598000675439835, -0.0265062153339386, -0.0351465605199337, 0.027641385793685913, -0.013588347472250462, -0.03326040133833885, 0.059875041246414185, 0.020347371697425842, -0.012843906879425049, -0.02677326649427414, -0.008144897408783436, -0.037990689277648926, -0.008072989992797375, -0.028071964159607887, -0.05950568988919258, -0.015069047920405865, 0.040923044085502625, -0.05248953029513359, 0.020831208676099777, 0.03976675868034363, 0.04248148947954178, 0.004803878255188465, 0.025190789252519608, 0.028176937252283096, 0.02352752909064293, 0.043950892984867096, 0.0680338442325592, 0.04318553954362869, -0.024452945217490196, -0.01793746091425419, -0.004963097162544727, -0.010114793665707111, 0.014565438032150269, -0.008126385509967804, -0.024797139689326286, -0.04271161928772926, -0.04528185725212097, -0.040463149547576904, 0.007828601635992527, -0.03604597598314285, 0.004856976214796305, 0.021496335044503212, -0.03632336109876633, -0.00837228074669838, -0.009006643667817116, 0.019525196403265, -0.008720329962670803, -0.024917615577578545, -0.02413051575422287, -0.008399737998843193, 0.10003479570150375, -0.012471318244934082, 0.005522338207811117, 0.021773850545287132, 0.011673559434711933, 0.0049046664498746395, 0.02127213217318058, -0.010048339143395424, 0.001275279326364398, -0.06949682533740997, -0.007848918437957764, -0.020020384341478348, 0.009455528110265732, 0.03475923463702202, 0.07838329672813416, 0.00028911736444570124, 0.041336383670568466, -0.03565189242362976, 0.006806964986026287, -0.06055274233222008, -0.009425505995750427, 0.035593416541814804, -0.005458773113787174, -0.0240970179438591, -0.004195645917207003, 0.030608590692281723, 0.03683842718601227, 0.014714136719703674, -0.07227533310651779, 0.009954852052032948, -0.011495523154735565, -0.04251997545361519, -0.02552226185798645, -0.048684559762477875, 0.025993669405579567, -0.05156407132744789, -0.004382100887596607, -0.037977077066898346, -0.013248175382614136, -0.014455023221671581, 0.0039637270383536816, 0.06076998636126518, -0.04045924171805382, 0.033118151128292084, -0.03243369609117508, -0.03732723742723465, -0.02933785319328308, -0.057425595819950104, 0.019955309107899666, 0.016310861334204674, 0.049537695944309235, 0.03181945160031319, 0.013920387253165245, 0.07620714604854584, -0.002389578614383936, 0.05314936488866806, -0.010711627081036568, 0.007725181989371777, 0.005306688137352467, 0.02910042740404606, -0.027237428352236748, 0.027256468310952187, 0.005187977105379105, -0.0005145493778400123, -0.023597504943609238, -0.049815256148576736, -0.022622723132371902, 0.019644806161522865, 0.01516284141689539, 0.020199526101350784, -0.008532170206308365, 0.046040598303079605, 0.05200257524847984, 0.09851717203855515, -0.003815989475697279, -0.018398737534880638, -0.02966179884970188, 0.0026463624089956284, -0.03601117432117462, 0.013667122460901737, -0.01259862445294857, -0.021637024357914925, -0.017944801598787308, 0.030320897698402405, 0.01857180707156658, -0.013595624826848507, 0.05061890184879303, -0.030153129249811172, 0.033682115375995636, -0.08351923525333405, 0.035917386412620544, 0.04135722666978836, 0.009491211734712124, 0.00163026072550565, 0.04034906625747681, -0.012098765932023525, 0.03973441570997238, -0.008620033040642738, 0.004281347151845694, 0.0009470974327996373, -0.02014899253845215, 0.01604306884109974, 0.027278725057840347, -0.03193264827132225, 0.03143804892897606, -0.01901494711637497, -0.07303010672330856, -0.027077287435531616, -0.0028257453814148903, -0.03395325317978859, -0.014148623682558537, 0.06460677087306976, -0.04665980488061905, 0.02047973871231079, 0.039827555418014526, 0.08849108219146729, -0.02024024724960327, 0.01662757620215416, 0.0338129960000515, -0.029452718794345856, 0.0050074574537575245, 0.04972989112138748, 0.03444008156657219, 0.0141111696138978, 0.012370516546070576, -0.0076212454587221146, -0.014934257604181767, -0.011869445443153381, 0.0455942265689373, -0.005139474291354418, -0.0387994684278965, -0.04559417441487312, 0.05671074241399765, -0.010617479681968689, -0.010254820808768272, -0.02765369787812233, 0.022962143644690514, -0.027119677513837814, 0.045978955924510956, -0.018890896812081337, -0.043819740414619446, 0.028374455869197845, 0.020279591903090477, -0.021424269303679466, -0.014852439984679222, -0.025218067690730095, -0.004135620780289173, -0.03344764560461044, 0.08388476818799973, 0.0155861871317029, -0.02030971832573414, -0.0048094242811203, 0.056591082364320755, -0.019998824223876, -0.019383596256375313, 0.03348524495959282, 0.008882906287908554, -0.005751274526119232, 0.010756260715425014, -0.02791699767112732, -0.0013842948246747255, -0.034237027168273926, -0.02097063697874546, -0.02695539779961109, 0.0130862295627594, 0.004232995677739382, -0.02279948629438877, 0.05363332852721214, 0.040017008781433105, 0.07340778410434723, -0.0009296893258579075, 0.023412523791193962, 0.025914425030350685, 0.038164813071489334, -0.04442175105214119, 0.025700675323605537, -0.016316784545779228, -0.004371072165668011, 0.0029792445711791515, 0.01792033575475216, 0.008590757846832275, -0.028374506160616875, -0.03994142636656761, -0.03260793536901474, 0.010216698981821537, 0.009822445921599865, 0.06432205438613892, -0.02288092114031315, 0.036979373544454575, 0.016685305163264275, -0.022647719830274582, 0.0007600266253575683, 0.009249350056052208, 0.015816127881407738, -0.017090506851673126, -0.02732323482632637, 0.00786082074046135, -0.01222690287977457, -0.009403849951922894, -0.018489308655261993, 0.05159139260649681, -0.04344014823436737, -0.02899431437253952, -0.027936287224292755, 0.015612710267305374, 0.0023134523071348667, -0.03623856231570244, -0.006629255134612322, 0.019297726452350616, -0.02779472805559635, -0.02850990928709507, -0.03248513117432594, 0.05612335726618767, 0.044215939939022064, 0.0876774713397026, 0.08211012929677963, -0.02511606551706791, -0.006030186545103788, -0.06279680132865906, -0.013263063505291939, -0.0013208561576902866, 0.01740284450352192, -0.0030768876895308495, 0.05223943293094635, -0.09225527942180634, -0.0008903588750399649, 0.04954521730542183, 0.02077842503786087, 0.006229682359844446, 0.04801557958126068, -0.003026494989171624, -0.0684063732624054, -0.031015492975711823, -0.009494716301560402, -0.02742876298725605, -0.006908087991178036, -0.026270845904946327, 0.022780368104577065, 0.02062312141060829, 0.02801692858338356, -0.07420169562101364, 0.041753530502319336, 0.03358412906527519, 0.014316090382635593, -0.03437423333525658, 0.021585138514637947, 0.00747230090200901, -0.014577267691493034, 0.005975284613668919, 0.022679360583424568, -0.08336766064167023, -0.03225978836417198, -0.017751628533005714, 0.02414795756340027, -0.03616054728627205, 0.03055192530155182, 0.04835345596075058, -0.012695706449449062, 0.01667172648012638, 0.03539508581161499, -0.015154923312366009, 0.0035866692196577787, -0.017510125413537025, 0.03102581575512886, -0.010031460784375668, 0.0014630346558988094, 0.0008879011147655547, 0.02808286063373089, -0.059036985039711, 0.04995552822947502, 0.05609956383705139, 0.007727575488388538, -0.03306449577212334, -0.03370378538966179, 0.02398519031703472, 0.008717733435332775, -0.032777607440948486, -0.02122417464852333, 0.04783808812499046, 0.0348941795527935, 0.012967549264431, -0.025371702387928963, -0.03756449371576309, 0.06056802347302437, -0.019435115158557892, -0.033492617309093475, -0.07647932320833206, 0.022044861689209938, 0.013699023984372616, 0.038388218730688095, 0.002386688254773617, -0.03040759637951851, 0.03455442935228348, 0.06095901131629944, -0.0071480791084468365, -0.018024617806077003, -0.052638813853263855, 0.026788242161273956, 0.00687009422108531, -0.04957213252782822, 0.03679283708333969, 0.022491881623864174, -0.07172983884811401, 0.09841632097959518, 0.0567803829908371, -0.0004522208764683455, 0.032823432236909866, -0.07515401393175125, -0.05848877504467964, 0.010709564201533794, -0.045322906225919724, 0.02998584322631359, -0.028198640793561935, -0.03761693090200424, 0.09456316381692886, -0.027323860675096512, -0.018637215718626976, 0.01013813354074955, -0.06402794271707535, 0.009012773633003235, -0.056822169572114944, 0.0006242264644242823, -0.02293444238603115, -0.051805704832077026, -0.06113766133785248, -0.01642671413719654, -0.01512232143431902, 0.04335001856088638, 0.030561737716197968, -0.0048698498867452145, 0.0004912775475531816, -0.04042522609233856, -0.024979043751955032, 0.01829206757247448, 0.03167400509119034, 0.004837260115891695, 0.034845683723688126, 0.013526996597647667, 0.03803887218236923, -0.04307250306010246, -0.027096528559923172, 0.038881298154592514, -0.02725699171423912, 0.03356918692588806, -0.033428724855184555, -0.016478445380926132, -0.0010409218957647681, 0.05922654643654823, 0.033932898193597794, -0.0227518267929554, 0.009121973067522049, 0.010730244219303131]\n"
     ]
    }
   ],
   "source": [
    "# Tester avec un texte\n",
    "text = \"La nature est un trésor précieux à préserver.\"\n",
    "embedding_result = embeddings.embed_query(text)\n",
    "\n",
    "# Afficher l'embedding\n",
    "print(embedding_result)"
   ]
  },
  {
   "cell_type": "markdown",
   "metadata": {
    "id": "bFKHRU-hlEV-"
   },
   "source": [
    "## Step 4: Set Up the QA Chain using LCEL\n",
    "\n",
    "Create a chain that can retrieve relevant chunks and generate answers based on them."
   ]
  },
  {
   "cell_type": "code",
   "execution_count": 48,
   "metadata": {},
   "outputs": [],
   "source": [
    "google_api_key=os.getenv(\"GOOGLE_API_KEY\"),"
   ]
  },
  {
   "cell_type": "code",
   "execution_count": 60,
   "metadata": {},
   "outputs": [
    {
     "name": "stdout",
     "output_type": "stream",
     "text": [
      "Réponse du modèle :\n",
      "Préserver la nature est crucial, non seulement pour notre propre survie, mais aussi pour le bien-être de la planète entière.  La nature est un système interconnecté et complexe dont nous dépendons entièrement.  Voici quelques raisons pour lesquelles sa préservation est primordiale :\n",
      "\n",
      "* **Notre survie dépend de la nature:**  L'air que nous respirons, l'eau que nous buvons et la nourriture que nous mangeons proviennent tous de la nature.  Les écosystèmes naturels purifient l'air et l'eau, régulent le climat et pollinisent nos cultures. Détruire la nature, c'est scier la branche sur laquelle nous sommes assis.\n",
      "\n",
      "* **La biodiversité est essentielle:** La nature abrite une incroyable diversité d'espèces animales et végétales.  Chaque espèce joue un rôle important dans l'équilibre des écosystèmes.  La perte de biodiversité fragilise ces écosystèmes, les rendant plus vulnérables aux maladies et aux changements climatiques.  Imaginez un monde sans le chant des oiseaux, le bourdonnement des abeilles ou la beauté des fleurs sauvages.\n",
      "\n",
      "* **La nature a une valeur intrinsèque:**  Au-delà de son utilité pour l'homme, la nature a une valeur en soi.  Chaque être vivant, chaque écosystème a le droit d'exister.  Nous avons la responsabilité morale de protéger la beauté et la richesse de la nature\n"
     ]
    }
   ],
   "source": [
    "# Initialisation du modèle Google Generative AI\n",
    "llm = ChatGoogleGenerativeAI(\n",
    "    model=\"gemini-1.5-pro\",  # Modèle disponible\n",
    "    temperature=0.7,        # Contrôle la créativité\n",
    "    max_output_tokens=300,  # Limite de la longueur de la réponse\n",
    "    timeout=15,             # Délai maximum pour attendre une réponse\n",
    "    max_retries=3           # Nombre de tentatives en cas d'échec\n",
    ")\n",
    "\n",
    "# Création d'un prompt template\n",
    "prompt = ChatPromptTemplate.from_messages([\n",
    "    (\"system\", \"You are an AI assistant that emphasizes the importance of nature and preserving the environment.\"),\n",
    "    (\"human\", \"{query}\")  # Placeholder pour intégrer des requêtes dynamiques\n",
    "])\n",
    "\n",
    "#Create a function to format documents for the prompt\n",
    "def format_docs(docs: List[Document]):\n",
    "    return \"\\n\\n\".join(doc.page_content for doc in docs)\n",
    "\n",
    "# Configuration de la chaîne QA en combinant le prompt et le model\n",
    "qa_chain = LLMChain(\n",
    "    llm=llm,\n",
    "    prompt=prompt\n",
    ")\n",
    "\n",
    "# Fournir une question à la chaîne QA\n",
    "query = \"Pourquoi est-il important de préserver la nature ?\"\n",
    "response = qa_chain.run({\"query\": query})\n",
    "\n",
    "# Affichage de la réponse\n",
    "print(\"Réponse du modèle :\")\n",
    "print(response)"
   ]
  },
  {
   "cell_type": "markdown",
   "metadata": {
    "id": "gdJnP9B_lEWA"
   },
   "source": [
    "## Step 5: Ask Questions and Get Answers\n",
    "\n",
    "Test the system by asking a question."
   ]
  },
  {
   "cell_type": "code",
   "execution_count": 64,
   "metadata": {},
   "outputs": [
    {
     "name": "stdout",
     "output_type": "stream",
     "text": [
      "Answer: The document emphasizes the urgent need for environmental conservation by protecting our precious natural ecosystems and the rich biodiversity they harbor.  It underscores the detrimental impact of human activities and explores strategies to lessen our footprint and foster a healthier relationship with the natural world.  Essentially, the core message is a call to action to safeguard our planet's future.\n",
      "\n"
     ]
    }
   ],
   "source": [
    "# Exemple de document à utiliser avec le modèle\n",
    "docs = [\n",
    "    Document(page_content=\"This document discusses the urgent need to protect natural ecosystems and biodiversity. It highlights the impact of human activities on the environment and proposes strategies to mitigate these effects.\"),\n",
    "]\n",
    "\n",
    "# Fonction pour formater les documents\n",
    "def format_docs(docs):\n",
    "    return \"\\n\\n\".join(doc.page_content for doc in docs)\n",
    "\n",
    "# Formater les documents\n",
    "formatted_docs = format_docs(docs)\n",
    "\n",
    "# Définir une question précise et directe\n",
    "query = f\"Can you summarize the main topic discussed in the following document, focusing on environmental conservation?\\n\\n{formatted_docs}\"\n",
    "\n",
    "# Interroger la chaîne QA avec plus de contexte\n",
    "result = qa_chain.invoke({\n",
    "    \"query\": query,\n",
    "})\n",
    "\n",
    "# Afficher uniquement la réponse du modèle\n",
    "\n",
    "print(f\"Answer: {result['text']}\")\n"
   ]
  },
  {
   "cell_type": "markdown",
   "metadata": {
    "id": "85yFfWxnlEWD"
   },
   "source": [
    "## Step 6: Test Your Implementation with Different Questions\n",
    "\n",
    "Try out different questions to see how the system performs."
   ]
  },
  {
   "cell_type": "code",
   "execution_count": 68,
   "metadata": {},
   "outputs": [
    {
     "name": "stdout",
     "output_type": "stream",
     "text": [
      "Global warming, driven by human activities releasing greenhouse gases into the atmosphere, is significantly impacting our precious planet, affecting both natural systems and human society.  It's crucial to remember that the Earth's delicate ecosystems are interconnected, and changes in one area can have ripple effects across the globe.\n",
      "\n",
      "Here are some key impacts:\n",
      "\n",
      "**On Natural Systems:**\n",
      "\n",
      "* **Rising Temperatures:**  The most direct impact is the increase in average global temperatures, both on land and in the oceans. This warming disrupts natural cycles and stresses ecosystems.  Think of the delicate balance of a forest, dependent on specific temperature ranges for its flora and fauna to thrive.\n",
      "* **Melting Ice and Rising Sea Levels:**  As temperatures rise, glaciers and polar ice caps melt at an alarming rate, contributing to rising sea levels. This threatens coastal communities and vital habitats like coral reefs and mangrove forests, which are crucial for biodiversity.\n",
      "* **Extreme Weather Events:** Global warming intensifies weather patterns, leading to more frequent and severe heatwaves, droughts, floods, wildfires, and storms. These events devastate natural landscapes, displace wildlife, and endanger human lives. Imagine the impact of a wildfire on a forest ecosystem, destroying habitats and releasing even more carbon into the atmosphere.\n",
      "* **Ocean Acidification:** The ocean absorbs a significant portion of the excess carbon dioxide in the atmosphere, leading to increased acidity. This harms marine life, particularly shellfish and corals, which rely on specific pH levels for shell formation.  \n"
     ]
    }
   ],
   "source": [
    "# Remplacer 'Another question here' par votre question et exécuter la chaîne QA pour cette question\n",
    "\n",
    "query = \"What is the impact of global warming?\"\n",
    "result = qa_chain.invoke(\n",
    "    {\n",
    "        \"query\": query,\n",
    "        \"formatted_docs\": formatted_docs,\n",
    "    }\n",
    ")\n",
    "\n",
    "# Afficher uniquement la réponse du modèle\n",
    "print(result['text'])  # Affiche la réponse générée\n"
   ]
  },
  {
   "cell_type": "markdown",
   "metadata": {
    "id": "KfJH8VZalEWD"
   },
   "source": [
    "## Step 7: Improve the System\n",
    "\n",
    "You can experiment with different parameters, like adjusting the chunk size or using a different language model."
   ]
  },
  {
   "cell_type": "markdown",
   "metadata": {},
   "source": [
    "* Utilisation d'un autre modèle de langage"
   ]
  },
  {
   "cell_type": "code",
   "execution_count": 71,
   "metadata": {},
   "outputs": [],
   "source": [
    "# Exemple de changement de modèle\n",
    "llm = ChatGoogleGenerativeAI(\n",
    "    model=\"gpt-4\",  # Remplacer par un autre modèle\n",
    "    temperature=0.7,\n",
    "    max_output_tokens=300,\n",
    "    timeout=15,\n",
    "    max_retries=3\n",
    ")"
   ]
  },
  {
   "cell_type": "markdown",
   "metadata": {
    "id": "OxNXVoT5lEWE"
   },
   "source": [
    "Conclusion\n",
    "\n",
    "Congratulations! You’ve built a simple Retrieval-Augmented Generation system using LangChain. This system can retrieve relevant information from documents and generate answers to user queries.\n",
    "\n",
    "Help\n",
    "\n",
    "- TextLoader: Loads text data from files.\n",
    "- RecursiveCharacterTextSplitter: Splits text into smaller chunks for better processing.\n",
    "- FAISS: A library for efficient similarity search of embeddings.\n",
    "- RetrievalQA Chain: A chain that retrieves relevant documents and answers questions based on them.\n",
    "- OpenAIEmbeddings: Generates embeddings that capture the semantic meaning of text."
   ]
  },
  {
   "cell_type": "markdown",
   "metadata": {
    "id": "BSVDf4EBlEWE"
   },
   "source": [
    "## Help"
   ]
  },
  {
   "cell_type": "code",
   "execution_count": null,
   "metadata": {
    "id": "4Y8DMsNwlEWE",
    "outputId": "47d3fc95-82dc-4c0a-891f-3c5aa228723c"
   },
   "outputs": [],
   "source": [
    "from langchain_core.prompts import ChatPromptTemplate\n",
    "\n",
    "template = ChatPromptTemplate([\n",
    "    (\"system\", \"You are a helpful AI bot. Your name is {name}.\"),\n",
    "    (\"human\", \"Hello, how are you doing?\"),\n",
    "    (\"ai\", \"I'm doing well, thanks!\"),\n",
    "    (\"human\", \"{user_input}\"),\n",
    "])\n",
    "\n",
    "prompt_value = template.invoke(\n",
    "    {\n",
    "        \"name\": \"Bob\",\n",
    "        \"user_input\": \"What is your name?\"\n",
    "    }\n",
    ")\n",
    "\n",
    "# Output:\n",
    "# ChatPromptValue(\n",
    "#    messages=[\n",
    "#        SystemMessage(content='You are a helpful AI bot. Your name is Bob.'),\n",
    "#        HumanMessage(content='Hello, how are you doing?'),\n",
    "#        AIMessage(content=\"I'm doing well, thanks!\"),\n",
    "#        HumanMessage(content='What is your name?')\n",
    "#    ]\n",
    "#)"
   ]
  }
 ],
 "metadata": {
  "colab": {
   "provenance": []
  },
  "kernelspec": {
   "display_name": "Python 3",
   "language": "python",
   "name": "python3"
  },
  "language_info": {
   "codemirror_mode": {
    "name": "ipython",
    "version": 3
   },
   "file_extension": ".py",
   "mimetype": "text/x-python",
   "name": "python",
   "nbconvert_exporter": "python",
   "pygments_lexer": "ipython3",
   "version": "3.12.6"
  }
 },
 "nbformat": 4,
 "nbformat_minor": 0
}
