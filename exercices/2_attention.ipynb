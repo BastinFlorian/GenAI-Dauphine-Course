{
  "nbformat": 4,
  "nbformat_minor": 0,
  "metadata": {
    "colab": {
      "provenance": []
    },
    "kernelspec": {
      "name": "python3",
      "display_name": "Python 3"
    },
    "language_info": {
      "name": "python"
    }
  },
  "cells": [
    {
      "cell_type": "code",
      "execution_count": null,
      "metadata": {
        "id": "PJbkPxv8V8Ea"
      },
      "outputs": [],
      "source": [
        "# Import necessary libraries\n",
        "import torch\n",
        "import torch.nn as nn\n",
        "import torch.nn.functional as F\n",
        "import math"
      ]
    },
    {
      "cell_type": "code",
      "source": [
        "def scaled_dot_product_attention(q, k, v, mask=None):\n",
        "    \"\"\"\n",
        "    Compute the scaled dot-product attention.\n",
        "\n",
        "    Args:\n",
        "        q: Queries tensor of shape (batch_size, seq_length_q, d_k)\n",
        "        k: Keys tensor of shape (batch_size, seq_length_k, d_k)\n",
        "        v: Values tensor of shape (batch_size, seq_length_v, d_v)\n",
        "        mask: Optional mask tensor to prevent attention to certain positions.\n",
        "\n",
        "    Returns:\n",
        "        context: The result of the attention mechanism.\n",
        "        attention_weights: The weights assigned to each value.\n",
        "    \"\"\"\n",
        "    d_k = q.size(-1)\n",
        "\n",
        "    #  Compute the dot products between queries and keys\n",
        "    scores = torch.matmul(q, k.transpose(-2, -1)) / math.sqrt(d_k)\n",
        "\n",
        "\n",
        "    if mask is not None:\n",
        "        scores = scores.masked_fill(mask == 0, float('-inf'))\n",
        "\n",
        "    # Apply softmax to get the attention weights\n",
        "    attention_weights = F.softmax(scores, dim=-1)\n",
        "\n",
        "    # Compute the context vector as the weighted sum of values\n",
        "    context = torch.matmul(attention_weights, v)\n",
        "\n",
        "    return context, attention_weights"
      ],
      "metadata": {
        "id": "kVpsXuZ-WBid"
      },
      "execution_count": null,
      "outputs": []
    },
    {
      "cell_type": "code",
      "source": [
        "# Test the scaled_dot_product_attention function\n",
        "batch_size = 2\n",
        "seq_length_q = 5\n",
        "seq_length_k = 6\n",
        "d_k = 64\n",
        "d_v = 64\n",
        "\n",
        "# Random tensors for queries, keys, and values\n",
        "q = torch.rand(batch_size, seq_length_q, d_k)\n",
        "k = torch.rand(batch_size, seq_length_k, d_k)\n",
        "v = torch.rand(batch_size, seq_length_k, d_v)\n",
        "\n",
        "# Optional mask (None for now)\n",
        "mask = None\n",
        "\n",
        "# Compute attention\n",
        "context, attention_weights = scaled_dot_product_attention(q, k, v, mask)\n",
        "\n",
        "print(f\"Context shape: {context.shape}\")  # Expected: (batch_size, seq_length_q, d_v)\n",
        "print(f\"Attention weights shape: {attention_weights.shape}\")  # Expected: (batch_size, seq_length_q, seq_length_k)"
      ],
      "metadata": {
        "id": "tSnIm4elWBnZ",
        "colab": {
          "base_uri": "https://localhost:8080/"
        },
        "outputId": "062b4cc8-d946-41ed-fffa-a46363567bee"
      },
      "execution_count": null,
      "outputs": [
        {
          "output_type": "stream",
          "name": "stdout",
          "text": [
            "Context shape: torch.Size([2, 5, 64])\n",
            "Attention weights shape: torch.Size([2, 5, 6])\n"
          ]
        }
      ]
    },
    {
      "cell_type": "code",
      "source": [],
      "metadata": {
        "id": "Z0rBq6KbWBph"
      },
      "execution_count": null,
      "outputs": []
    },
    {
      "cell_type": "markdown",
      "source": [
        "#Multi Head Attention\n"
      ],
      "metadata": {
        "id": "jBzl1XAgXWyj"
      }
    },
    {
      "cell_type": "code",
      "source": [
        "class MultiHeadAttention(nn.Module):\n",
        "    def __init__(self, d_model, num_heads):\n",
        "        super(MultiHeadAttention, self).__init__()\n",
        "        assert d_model % num_heads == 0, \"d_model must be divisible by num_heads\"\n",
        "\n",
        "        self.d_k = d_model // num_heads\n",
        "        self.num_heads = num_heads\n",
        "\n",
        "        self.q_linear = nn.Linear(d_model, d_model)\n",
        "        self.k_linear = nn.Linear(d_model, d_model)\n",
        "        self.v_linear = nn.Linear(d_model, d_model)\n",
        "\n",
        "        self.out_linear = nn.Linear(d_model, d_model)\n",
        "\n",
        "    def forward(self, q, k, v, mask=None):\n",
        "        batch_size = q.size(0)\n",
        "\n",
        "        # Linear projections\n",
        "        q = self.q_linear(q)  # (batch_size, seq_length, d_model)\n",
        "        k = self.k_linear(k)\n",
        "        v = self.v_linear(v)\n",
        "\n",
        "        # Split into num_heads\n",
        "        q = q.view(batch_size, -1, self.num_heads, self.d_k).transpose(1,2)\n",
        "        k = k.view(batch_size, -1, self.num_heads, self.d_k).transpose(1,2)\n",
        "        v = v.view(batch_size, -1, self.num_heads, self.d_k).transpose(1,2)\n",
        "\n",
        "\n",
        "        # Apply scaled dot-product attention\n",
        "        context, attention_weights = scaled_dot_product_attention(q, k, v, mask)\n",
        "\n",
        "        # Concatenate heads\n",
        "        context = context.transpose(1,2).contiguous().view(batch_size, -1, self.num_heads * self.d_k)\n",
        "\n",
        "        # Final linear layer\n",
        "        output = self.out_linear(context)\n",
        "\n",
        "        return output, attention_weights"
      ],
      "metadata": {
        "id": "cdbCxsOLWBrn"
      },
      "execution_count": null,
      "outputs": []
    },
    {
      "cell_type": "code",
      "source": [
        "# Test the MultiHeadAttention class\n",
        "d_model = 512\n",
        "num_heads = 8\n",
        "batch_size = 2\n",
        "seq_length = 10\n",
        "\n",
        "# Random input tensor\n",
        "x = torch.rand(batch_size, seq_length, d_model)\n",
        "\n",
        "# Instantiate the MultiHeadAttention\n",
        "mha = MultiHeadAttention(d_model, num_heads)\n",
        "\n",
        "# Forward pass\n",
        "output, attn_weights = mha(x, x, x)\n",
        "\n",
        "print(f\"Output shape: {output.shape}\")  # Expected: (batch_size, seq_length, d_model)\n",
        "print(f\"Attention weights shape: {attn_weights.shape}\")  # Expected: (batch_size, num_heads, seq_length, seq_length)"
      ],
      "metadata": {
        "colab": {
          "base_uri": "https://localhost:8080/"
        },
        "id": "OJ4DnbJBXZOu",
        "outputId": "ca3264cb-f007-4bc6-f2a5-f78ba463ad5f"
      },
      "execution_count": null,
      "outputs": [
        {
          "output_type": "stream",
          "name": "stdout",
          "text": [
            "Output shape: torch.Size([2, 10, 512])\n",
            "Attention weights shape: torch.Size([2, 8, 10, 10])\n"
          ]
        }
      ]
    },
    {
      "cell_type": "markdown",
      "source": [
        "#Visualizing Attention Weights"
      ],
      "metadata": {
        "id": "vUxJ_rtsXpko"
      }
    },
    {
      "cell_type": "code",
      "source": [
        "import matplotlib.pyplot as plt\n",
        "import seaborn as sns\n",
        "%matplotlib inline\n",
        "\n",
        "def plot_attention_weights(attention_weights, layer=0, head=0):\n",
        "    \"\"\"\n",
        "    Plots the attention weights.\n",
        "\n",
        "    Args:\n",
        "        attention_weights: Tensor of attention weights of shape (batch_size, num_heads, seq_length, seq_length)\n",
        "        layer: The layer number (if applicable)\n",
        "        head: The head number to visualize\n",
        "    \"\"\"\n",
        "    # Select the first batch\n",
        "    attn = attention_weights[0, head].detach().cpu().numpy()\n",
        "\n",
        "    plt.figure(figsize=(8, 6))\n",
        "    sns.heatmap(attn, cmap='viridis')\n",
        "    plt.title(f'Attention Weights - Layer {layer+1}, Head {head+1}')\n",
        "    plt.xlabel('Key Positions')\n",
        "    plt.ylabel('Query Positions')\n",
        "    plt.show()"
      ],
      "metadata": {
        "id": "JpvrG4pYXZLM"
      },
      "execution_count": null,
      "outputs": []
    },
    {
      "cell_type": "code",
      "source": [
        "# Assume we have attention weights from the previous example\n",
        "plot_attention_weights(attn_weights, layer=0, head=0)"
      ],
      "metadata": {
        "colab": {
          "base_uri": "https://localhost:8080/",
          "height": 564
        },
        "id": "Qo-X4r0sXZJB",
        "outputId": "f2d0a8fb-0500-4750-c76e-0df477e89f79"
      },
      "execution_count": null,
      "outputs": [
        {
          "output_type": "display_data",
          "data": {
            "text/plain": [
              "<Figure size 800x600 with 2 Axes>"
            ],
            "image/png": "[encoded data removed]"
          },
          "metadata": {}
        }
      ]
    },
    {
      "cell_type": "code",
      "source": [],
      "metadata": {
        "id": "2rIDhLftWBu_"
      },
      "execution_count": null,
      "outputs": []
    }
  ]
}
