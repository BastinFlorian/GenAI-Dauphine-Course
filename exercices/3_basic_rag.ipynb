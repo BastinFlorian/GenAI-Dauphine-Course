{
 "cells": [
  {
   "cell_type": "markdown",
   "metadata": {},
   "source": [
    "## Building a Retrieval-Augmented Generation (RAG) System with LangChain\n",
    "\n",
    "### Introduction\n",
    "\n",
    "In this notebook, we will learn how to build a Retrieval-Augmented Generation (RAG) system using LangChain in Python. RAG systems combine information retrieval and natural language generation to produce answers that are grounded in external knowledge bases. This approach is particularly useful when dealing with large documents or datasets where direct querying isn’t efficient or possible.\n",
    "\n",
    "### Objectives\n",
    "\n",
    "- Understand the concept of Retrieval-Augmented Generation (RAG).\n",
    "- Learn how to use LangChain to implement a RAG system.\n",
    "- Implement the system step by step with guided TODO tasks.\n",
    "- Test your implementation at each step.\n",
    "- Provide helpful explanations and definitions.\n",
    "\n",
    "Help\n",
    "\n",
    "### Methods Used:\n",
    "\n",
    "- LangChain: A library for building language model applications.\n",
    "- VectorStore (FAISS): A tool for efficient similarity search and clustering of dense vectors.\n",
    "- OpenAI Embeddings: Representations of text that can capture semantic meaning.\n",
    "- RetrievalQA Chain: Combines retrieval and question-answering over documents.\n",
    "\n",
    "### Data Used\n",
    "\n",
    "- I extracted some chapters of the Gen AI course as a txt file. \n",
    "- The goal how this notebook is to build a RAG system that can answer questions based on the content of these chapters."
   ]
  },
  {
   "cell_type": "markdown",
   "metadata": {},
   "source": [
    "## Step 1: Set Up Your Environment\n",
    "\n",
    "We need to import the required modules and set up the OpenAI API key."
   ]
  },
  {
   "cell_type": "code",
   "execution_count": 6,
   "metadata": {},
   "outputs": [],
   "source": [
    "# Import necessary libraries\n",
    "import sys\n",
    "from dotenv import load_dotenv\n",
    "from langchain import hub\n",
    "from langchain_google_genai import GoogleGenerativeAIEmbeddings\n",
    "from langchain_google_genai import ChatGoogleGenerativeAI\n",
    "from langchain.vectorstores import FAISS\n",
    "from langchain.chains import LLMChain\n",
    "from langchain.text_splitter import RecursiveCharacterTextSplitter\n",
    "from langchain.document_loaders import TextLoader\n",
    "from langchain_core.output_parsers import StrOutputParser\n",
    "from langchain_core.runnables import RunnablePassthrough\n",
    "from langchain_core.documents.base import Document\n",
    "from langchain_core.prompts import ChatPromptTemplate\n",
    "from typing import List"
   ]
  },
  {
   "cell_type": "code",
   "execution_count": 7,
   "metadata": {},
   "outputs": [],
   "source": [
    "load_dotenv()\n",
    "sys.path.append(\"../\")"
   ]
  },
  {
   "cell_type": "markdown",
   "metadata": {},
   "source": [
    "## Step 2: Load and Split Documents\n",
    "\n",
    "Load the document you want to use and split it into manageable chunks."
   ]
  },
  {
   "cell_type": "code",
   "execution_count": 8,
   "metadata": {},
   "outputs": [],
   "source": [
    "# TODO: Load your document and split it into chunks\n",
    "# Hint: Use TextLoader and RecursiveCharacterTextSplitter\n",
    "\n",
    "filename = r\"C:\\Users\\Aycha\\Desktop\\M2_BDIA\\GENAI\\GenAI-Dauphine-Course\\data\\gen_ai_course.txt\"\n",
    "# Answer:\n",
    "loader = TextLoader(filename, encoding='utf-8')\n",
    "documents = loader.load()\n",
    "\n",
    "# Answer\n",
    "text_splitter = RecursiveCharacterTextSplitter(chunk_size=500, chunk_overlap=50)\n",
    "docs = text_splitter.split_documents(documents)\n"
   ]
  },
  {
   "cell_type": "markdown",
   "metadata": {},
   "source": [
    "## Step 3: Create Embeddings and Build the VectorStore\n",
    "\n",
    "Generate embeddings for each chunk and store them in a vector store for efficient retrieval."
   ]
  },
  {
   "cell_type": "code",
   "execution_count": 9,
   "metadata": {},
   "outputs": [],
   "source": [
    "import os\n",
    "from dotenv import load_dotenv\n",
    "\n",
    "load_dotenv()\n",
    "api_key = os.getenv(\"GOOGLE_API_KEY\")\n"
   ]
  },
  {
   "cell_type": "code",
   "execution_count": 10,
   "metadata": {},
   "outputs": [],
   "source": [
    "# TODO: Create embeddings and store them in a VectorStore\n",
    "# Hint: Use OpenAIEmbeddings and FAISS\n",
    "embeddings = GoogleGenerativeAIEmbeddings(model=\"models/embedding-001\")\n",
    "vectorstore = FAISS.from_documents(documents=docs, embedding=embeddings)\n",
    "# Hint : Use GoogleGenerativeAIEmbeddings(model=...)"
   ]
  },
  {
   "cell_type": "markdown",
   "metadata": {},
   "source": [
    "## Step 4: Set Up the QA Chain using LCEL \n",
    "\n",
    "Create a chain that can retrieve relevant chunks and generate answers based on them."
   ]
  },
  {
   "cell_type": "code",
   "execution_count": 15,
   "metadata": {},
   "outputs": [],
   "source": [
    "llm = ChatGoogleGenerativeAI(model=\"gemini-1.5-pro\")\n",
    "# Initialize ChatGoogleGenerativeAI with the required arguments\n",
    "\n",
    "#Create a function to format documents for the prompt\n",
    "def format_docs(docs: List[Document]):\n",
    "    # Hint: Join the content of each document\n",
    "    return \"\\n\".join(doc.page_content for doc in docs) # Join the page content of docs into a stringg\n",
    "\n",
    "# Hint: Define the prompt template with system and human messages. See help below\n",
    "\n",
    "prompt = ChatPromptTemplate.from_messages([\n",
    "    (\"system\", \"You are a helpful assistant that answers questions based on the provided documents.\"),\n",
    "    (\"human\", \"Here are some relevant documents to answer the question.\"),\n",
    "    (\"human\", \"{documents}\"),\n",
    "    (\"human\", \"User's question: {question}\"),\n",
    "    (\"assistant\", \"Answer:\"),\n",
    "])\n",
    "# Hint: Format the documents using the function above\n",
    "formatted_docs = format_docs(docs) \n",
    "\n",
    "# Hint: Create the QA chain by combining the prompt and model\n",
    "qa_chain = LLMChain(prompt=prompt, llm=llm)\n"
   ]
  },
  {
   "cell_type": "markdown",
   "metadata": {},
   "source": [
    "## Step 5: Ask Questions and Get Answers\n",
    "\n",
    "Test the system by asking a question."
   ]
  },
  {
   "cell_type": "code",
   "execution_count": 16,
   "metadata": {},
   "outputs": [
    {
     "name": "stdout",
     "output_type": "stream",
     "text": [
      "The document primarily discusses Generative AI with Large Language Models (LLMs). It covers a wide range of topics related to LLMs, including:\n",
      "\n",
      "* **Building LLMs:** This includes pretraining, tokenization, evaluating, data preprocessing, scaling laws, training processes, costs, and optimization.  It also covers fine-tuning techniques like Supervised Fine Tuning (SFT), Reinforcement Learning from Human Feedback (RLHF), reward models, and Proximal Policy Optimization (PPO) and Direct Preference Optimization (DPO).\n",
      "* **Transformers:** The document details the architecture of transformers, explaining key concepts such as self-attention, cross-attention, multi-head attention, residual connections, layer normalization, feed-forward layers, softmax layers, and positional embeddings. It also touches upon pre-transformer architectures like N-grams, RNNs, and LSTMs.\n",
      "* **Retrieval Augmented Generation (RAG):** This section explains how RAG combines retrieval-based and generation-based models, its benefits, architecture, information retrieval methods, vector stores, search optimization, different RAG techniques, evaluation, multimodal RAG, and state-of-the-art RAG architectures.\n",
      "* **Tools and Agents:**  While less detailed, this section briefly mentions the use of tools and agents with LLMs.\n",
      "\n"
     ]
    }
   ],
   "source": [
    "# TODO: Ask a question to the QA chain\n",
    "# Replace 'Your question here' with an actual question and run the qa_chain for this question\n",
    "\n",
    "# Answer:\n",
    "query = \"What is the main topic discussed in the document?\"\n",
    "result = qa_chain.run(documents=formatted_docs, question=query)\n",
    "print(result)\n"
   ]
  },
  {
   "cell_type": "markdown",
   "metadata": {},
   "source": [
    "## Step 6: Test Your Implementation with Different Questions\n",
    "\n",
    "Try out different questions to see how the system performs."
   ]
  },
  {
   "cell_type": "code",
   "execution_count": 17,
   "metadata": {},
   "outputs": [
    {
     "name": "stdout",
     "output_type": "stream",
     "text": [
      "The document covers several key aspects of Generative AI and Large Language Models (LLMs):\n",
      "\n",
      "**Building LLMs:**  It explains the process of pre-training LLMs, including introduction, cross-entropy loss, tokenization (using Byte-Pair Encoding), evaluation (using perplexity and datasets), data preprocessing, scaling laws, training process, cost, and optimizations.  It also details fine-tuning techniques like Supervised Fine-Tuning (SFT), Reinforcement Learning from Human Feedback (RLHF) with reward models, Proximal Policy Optimization (PPO) and Direct Preference Optimization (DPO), along with their evaluation and challenges.  Data preprocessing is highlighted as crucial for quality.  Scaling laws help determine model and data size based on compute resources.  SFT is the first step in post-training, and RLHF/DPO align the model with human preferences.  Chain-of-Thought (COT) prompting improves efficiency.\n",
      "\n",
      "**Transformers Architecture:** The document describes the evolution of language models from N-grams and embeddings to RNNs and LSTMs, and finally to Transformers.  It details the Transformer architecture, including self-attention and cross-attention mechanisms, multi-head attention, residual connections, layer normalization, feed-forward layers, softmax layer, and positional embeddings.  It emphasizes how Transformers address the limitations of previous architectures.\n",
      "\n",
      "**Retrieval Augmented Generation (RAG):**  RAG combines retrieval-based and generation-based models. It explains the basic RAG architecture, information retrieval techniques (TF-IDF, BM25, cosine similarity, MMR), vector stores and search optimization (ScaNN, FAISS, HNSW, RRF), rerankers, and RAG techniques like query augmentation, query rephrasing, and chunking. Evaluation methods for both retrievers (precision, recall, NDCG) and answers (LLM as a judge) are discussed. Multimodal RAG and SOTA architectures like Self-RAG, RAPTOR, Corrective RAG (CRAG), and GraphRAG are also introduced.  Tools and agents are briefly mentioned as well.\n",
      "\n"
     ]
    }
   ],
   "source": [
    "# Replace 'Another question here' with your own question and run the qa_chain for this question\n",
    "\n",
    "query = \"Can you summarize the key points mentioned?\"\n",
    "result = qa_chain.run(documents=formatted_docs, question=query)\n",
    "print(result)"
   ]
  },
  {
   "cell_type": "markdown",
   "metadata": {},
   "source": [
    "## Step 7: Improve the System\n",
    "\n",
    "You can experiment with different parameters, like adjusting the chunk size or using a different language model."
   ]
  },
  {
   "cell_type": "markdown",
   "metadata": {},
   "source": [
    "On peut essayer avec ca llm = ChatGoogleGenerativeAI(\n",
    "    model=\"gemini-1.5-pro\",\n",
    "    temperature=0,\n",
    "    max_tokens=None,\n",
    "    timeout=None,\n",
    "    max_retries=2,\n",
    ")"
   ]
  },
  {
   "cell_type": "markdown",
   "metadata": {},
   "source": [
    "Conclusion\n",
    "\n",
    "Congratulations! You’ve built a simple Retrieval-Augmented Generation system using LangChain. This system can retrieve relevant information from documents and generate answers to user queries.\n",
    "\n",
    "Help\n",
    "\n",
    "- TextLoader: Loads text data from files.\n",
    "- RecursiveCharacterTextSplitter: Splits text into smaller chunks for better processing.\n",
    "- FAISS: A library for efficient similarity search of embeddings.\n",
    "- RetrievalQA Chain: A chain that retrieves relevant documents and answers questions based on them.\n",
    "- OpenAIEmbeddings: Generates embeddings that capture the semantic meaning of text."
   ]
  },
  {
   "cell_type": "markdown",
   "metadata": {},
   "source": [
    "## Help"
   ]
  },
  {
   "cell_type": "code",
   "execution_count": 14,
   "metadata": {},
   "outputs": [],
   "source": [
    "from langchain_core.prompts import ChatPromptTemplate\n",
    "\n",
    "template = ChatPromptTemplate([\n",
    "    (\"system\", \"You are a helpful AI bot. Your name is {name}.\"),\n",
    "    (\"human\", \"Hello, how are you doing?\"),\n",
    "    (\"ai\", \"I'm doing well, thanks!\"),\n",
    "    (\"human\", \"{user_input}\"),\n",
    "])\n",
    "\n",
    "prompt_value = template.invoke(\n",
    "    {\n",
    "        \"name\": \"Bob\",\n",
    "        \"user_input\": \"What is your name?\"\n",
    "    }\n",
    ")\n",
    "\n",
    "# Output:\n",
    "# ChatPromptValue(\n",
    "#    messages=[\n",
    "#        SystemMessage(content='You are a helpful AI bot. Your name is Bob.'),\n",
    "#        HumanMessage(content='Hello, how are you doing?'),\n",
    "#        AIMessage(content=\"I'm doing well, thanks!\"),\n",
    "#        HumanMessage(content='What is your name?')\n",
    "#    ]\n",
    "#)"
   ]
  }
 ],
 "metadata": {
  "kernelspec": {
   "display_name": "aicha_genai",
   "language": "python",
   "name": "python3"
  },
  "language_info": {
   "codemirror_mode": {
    "name": "ipython",
    "version": 3
   },
   "file_extension": ".py",
   "mimetype": "text/x-python",
   "name": "python",
   "nbconvert_exporter": "python",
   "pygments_lexer": "ipython3",
   "version": "3.12.5"
  }
 },
 "nbformat": 4,
 "nbformat_minor": 2
}
