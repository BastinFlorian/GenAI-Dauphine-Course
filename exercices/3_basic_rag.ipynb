{
 "cells": [
  {
   "cell_type": "markdown",
   "metadata": {},
   "source": [
    "## Building a Retrieval-Augmented Generation (RAG) System with LangChain\n",
    "\n",
    "### Introduction\n",
    "\n",
    "In this notebook, we will learn how to build a Retrieval-Augmented Generation (RAG) system using LangChain in Python. RAG systems combine information retrieval and natural language generation to produce answers that are grounded in external knowledge bases. This approach is particularly useful when dealing with large documents or datasets where direct querying isn’t efficient or possible.\n",
    "\n",
    "### Objectives\n",
    "\n",
    "- Understand the concept of Retrieval-Augmented Generation (RAG).\n",
    "- Learn how to use LangChain to implement a RAG system.\n",
    "- Implement the system step by step with guided TODO tasks.\n",
    "- Test your implementation at each step.\n",
    "- Provide helpful explanations and definitions.\n",
    "\n",
    "Help\n",
    "\n",
    "### Methods Used:\n",
    "\n",
    "- LangChain: A library for building language model applications.\n",
    "- VectorStore (FAISS): A tool for efficient similarity search and clustering of dense vectors.\n",
    "- OpenAI Embeddings: Representations of text that can capture semantic meaning.\n",
    "- RetrievalQA Chain: Combines retrieval and question-answering over documents.\n",
    "\n",
    "### Data Used\n",
    "\n",
    "- I extracted some chapters of the Gen AI course as a txt file. \n",
    "- The goal how this notebook is to build a RAG system that can answer questions based on the content of these chapters."
   ]
  },
  {
   "cell_type": "markdown",
   "metadata": {},
   "source": [
    "## Step 1: Set Up Your Environment\n",
    "\n",
    "We need to import the required modules and set up the OpenAI API key."
   ]
  },
  {
   "cell_type": "code",
   "execution_count": 1,
   "metadata": {},
   "outputs": [],
   "source": [
    "# Import necessary libraries\n",
    "import sys\n",
    "from dotenv import load_dotenv\n",
    "from langchain import hub\n",
    "from langchain_google_genai import GoogleGenerativeAIEmbeddings\n",
    "from langchain_google_genai import ChatGoogleGenerativeAI\n",
    "from langchain.vectorstores import FAISS\n",
    "from langchain.chains import LLMChain\n",
    "from langchain.text_splitter import RecursiveCharacterTextSplitter\n",
    "from langchain.document_loaders import TextLoader\n",
    "from langchain_core.output_parsers import StrOutputParser\n",
    "from langchain_core.runnables import RunnablePassthrough\n",
    "from langchain_core.documents.base import Document\n",
    "from langchain_core.prompts import ChatPromptTemplate\n",
    "from typing import List"
   ]
  },
  {
   "cell_type": "code",
   "execution_count": 2,
   "metadata": {},
   "outputs": [],
   "source": [
    "load_dotenv()\n",
    "sys.path.append(\"../\")"
   ]
  },
  {
   "cell_type": "markdown",
   "metadata": {},
   "source": [
    "## Step 2: Load and Split Documents\n",
    "\n",
    "Load the document you want to use and split it into manageable chunks."
   ]
  },
  {
   "cell_type": "code",
   "execution_count": 3,
   "metadata": {},
   "outputs": [],
   "source": [
    "# TODO: Load your document and split it into chunks\n",
    "# Hint: Use TextLoader and RecursiveCharacterTextSplitter\n",
    "\n",
    "filename = r\"C:\\Users\\Aycha\\Desktop\\M2_BDIA\\GENAI\\GenAI-Dauphine-Course\\data\\gen_ai_course.txt\"\n",
    "# Answer:\n",
    "loader = TextLoader(filename, encoding='utf-8')\n",
    "documents = loader.load()\n",
    "\n",
    "# Answer\n",
    "text_splitter = RecursiveCharacterTextSplitter(chunk_size=500, chunk_overlap=50)\n",
    "docs = text_splitter.split_documents(documents)\n"
   ]
  },
  {
   "cell_type": "markdown",
   "metadata": {},
   "source": [
    "## Step 3: Create Embeddings and Build the VectorStore\n",
    "\n",
    "Generate embeddings for each chunk and store them in a vector store for efficient retrieval."
   ]
  },
  {
   "cell_type": "code",
   "execution_count": 4,
   "metadata": {},
   "outputs": [],
   "source": [
    "import os\n",
    "from dotenv import load_dotenv\n",
    "\n",
    "load_dotenv()\n",
    "api_key = os.getenv(\"GOOGLE_API_KEY\")\n"
   ]
  },
  {
   "cell_type": "code",
   "execution_count": 5,
   "metadata": {},
   "outputs": [],
   "source": [
    "# TODO: Create embeddings and store them in a VectorStore\n",
    "# Hint: Use OpenAIEmbeddings and FAISS\n",
    "embeddings = GoogleGenerativeAIEmbeddings(model=\"models/embedding-001\")\n",
    "vectorstore = FAISS.from_documents(documents=docs, embedding=embeddings)\n",
    "# Hint : Use GoogleGenerativeAIEmbeddings(model=...)"
   ]
  },
  {
   "cell_type": "markdown",
   "metadata": {},
   "source": [
    "## Step 4: Set Up the QA Chain using LCEL \n",
    "\n",
    "Create a chain that can retrieve relevant chunks and generate answers based on them."
   ]
  },
  {
   "cell_type": "code",
   "execution_count": 18,
   "metadata": {},
   "outputs": [],
   "source": [
    "llm = ChatGoogleGenerativeAI(model=\"gemini-1.5-pro\")\n",
    "# Initialize ChatGoogleGenerativeAI with the required arguments\n",
    "\n",
    "#Create a function to format documents for the prompt\n",
    "def format_docs(docs: List[Document]):\n",
    "    # Hint: Join the content of each document\n",
    "    return \"\\n\".join(doc.page_content for doc in docs) # Join the page content of docs into a stringg\n",
    "\n",
    "# Hint: Define the prompt template with system and human messages. See help below\n",
    "\n",
    "prompt = ChatPromptTemplate.from_messages([\n",
    "    (\"system\", \"You are a helpful assistant that answers questions based on the provided documents.\"),\n",
    "    (\"human\", \"Here are some relevant documents to answer the question.\"),\n",
    "    (\"human\", \"{documents}\"),\n",
    "    (\"human\", \"User's question: {question}\"),\n",
    "    (\"assistant\", \"Answer:\"),\n",
    "])\n",
    "# Hint: Format the documents using the function above\n",
    "formatted_docs = format_docs(docs) \n",
    "\n",
    "# Hint: Create the QA chain by combining the prompt and model\n",
    "qa_chain = prompt | llm\n"
   ]
  },
  {
   "cell_type": "markdown",
   "metadata": {},
   "source": [
    "## Step 5: Ask Questions and Get Answers\n",
    "\n",
    "Test the system by asking a question."
   ]
  },
  {
   "cell_type": "code",
   "execution_count": 22,
   "metadata": {},
   "outputs": [
    {
     "name": "stdout",
     "output_type": "stream",
     "text": [
      "content='The document primarily discusses Large Language Models (LLMs), including how they are built, trained, and used.  It covers transformer architecture, pre-training and fine-tuning processes like RLHF and SFT, and also delves into Retrieval Augmented Generation (RAG) techniques.  Additionally, it touches upon tools and agents used with LLMs.\\n' additional_kwargs={} response_metadata={'prompt_feedback': {'block_reason': 0, 'safety_ratings': []}, 'finish_reason': 'STOP', 'safety_ratings': []} id='run-4db6ab58-8f8c-4754-9d3b-a269115163b8-0' usage_metadata={'input_tokens': 29119, 'output_tokens': 71, 'total_tokens': 29190, 'input_token_details': {'cache_read': 0}}\n"
     ]
    }
   ],
   "source": [
    "# TODO: Ask a question to the QA chain\n",
    "# Replace 'Your question here' with an actual question and run the qa_chain for this question\n",
    "\n",
    "# Answer:\n",
    "query = \"What is the main topic discussed in the document?\"\n",
    "result = qa_chain.invoke({\"documents\": formatted_docs, \"question\": query})\n",
    "\n",
    "print(result)\n"
   ]
  },
  {
   "cell_type": "markdown",
   "metadata": {},
   "source": [
    "## Step 6: Test Your Implementation with Different Questions\n",
    "\n",
    "Try out different questions to see how the system performs."
   ]
  },
  {
   "cell_type": "code",
   "execution_count": 23,
   "metadata": {},
   "outputs": [
    {
     "name": "stdout",
     "output_type": "stream",
     "text": [
      "content=\"The document covers several key aspects of Large Language Models (LLMs), including their training, architecture, and applications. Here's a summary of the key points:\\n\\n**Building LLMs:**\\n\\n* **Training Process:** LLMs are trained in two phases: pre-training and post-training. Pre-training involves predicting the next word in a sequence, using cross-entropy loss and techniques like byte-pair encoding for tokenization.  Scaling laws guide the optimal model and data size based on compute resources. Post-training aims to align the model with human preferences, often using Supervised Fine-Tuning (SFT) and Reinforcement Learning from Human Feedback (RLHF), or more recently, Direct Preference Optimization (DPO).\\n* **Cost and Optimization:** Training LLMs is computationally expensive. Optimizations focus on efficient data preprocessing, scaling laws, and techniques like PPO and DPO.\\n* **Evaluation:** Perplexity is a common evaluation metric, though now superseded by benchmark datasets like IFEval, BBH, and MMLU-Pro. Evaluating alignment is challenging and relies on methods like Chatbot Arena. Chain-of-Thought (COT) prompting improves reasoning abilities.\\n\\n**Transformer Architecture:**\\n\\n* **Evolution:**  Transformers evolved from earlier models like N-grams, RNNs, and LSTMs, addressing limitations like vanishing gradients and limited context windows.\\n* **Key Components:** Core components include self-attention (and cross-attention for tasks like translation), multi-head attention, residual connections, layer normalization, feed-forward layers, a softmax layer for prediction, and positional embeddings.\\n* **Attention Mechanism:** This mechanism allows the model to weigh the importance of different parts of the input sequence when generating output. It involves Query, Key, and Value matrices.  Multi-head attention allows the model to attend to different aspects of the input simultaneously.\\n\\n**Retrieval Augmented Generation (RAG):**\\n\\n* **Architecture:** RAG combines LLMs with external knowledge sources. It retrieves relevant information from a knowledge base or document store based on the user's query and uses this information to augment the LLM's prompt.\\n* **Retrieval Methods:**  Retrieval methods include TF-IDF, BM25, cosine similarity, and Euclidean distance.  Sparse, dense, and hybrid retrieval approaches are used.\\n* **Vectorstores:** Vector databases store and manage vector embeddings of documents, enabling efficient similarity search. Methods like ScaNN, FAISS, and HNSW optimize retrieval.\\n* **Optimization Techniques:** Query augmentation, rephrasing, reranking, and prompt engineering are used to improve retrieval and generation quality.\\n* **Multimodal RAG:** Extends RAG to incorporate multiple data types, such as images and text, using multimodal LLMs.\\n* **SOTA Architectures:**  Advanced RAG architectures include Self-RAG, RAPTOR, and Corrective RAG.\\n\\nThis summary provides a high-level overview of the document's key concepts related to LLMs, Transformers, and RAG.  Each section contains more detailed explanations and specific techniques.\\n\" additional_kwargs={} response_metadata={'prompt_feedback': {'block_reason': 0, 'safety_ratings': []}, 'finish_reason': 'STOP', 'safety_ratings': []} id='run-8b4270aa-da68-4baa-b23d-84d0014bcbef-0' usage_metadata={'input_tokens': 29117, 'output_tokens': 627, 'total_tokens': 29744, 'input_token_details': {'cache_read': 0}}\n"
     ]
    }
   ],
   "source": [
    "# Replace 'Another question here' with your own question and run the qa_chain for this question\n",
    "\n",
    "query = \"Can you summarize the key points mentioned?\"\n",
    "result = qa_chain.invoke({\"documents\": formatted_docs, \"question\": query})\n",
    "print(result)"
   ]
  },
  {
   "cell_type": "markdown",
   "metadata": {},
   "source": [
    "## Step 7: Improve the System\n",
    "\n",
    "You can experiment with different parameters, like adjusting the chunk size or using a different language model."
   ]
  },
  {
   "cell_type": "code",
   "execution_count": 17,
   "metadata": {},
   "outputs": [
    {
     "name": "stdout",
     "output_type": "stream",
     "text": [
      "Testing config: chunk_size=300, chunk_overlap=100\n"
     ]
    },
    {
     "name": "stderr",
     "output_type": "stream",
     "text": [
      "C:\\Users\\Aycha\\AppData\\Local\\Temp\\ipykernel_15008\\826605874.py:19: LangChainDeprecationWarning: The method `BaseRetriever.get_relevant_documents` was deprecated in langchain-core 0.1.46 and will be removed in 1.0. Use :meth:`~invoke` instead.\n",
      "  results = retriever.get_relevant_documents(query)\n"
     ]
    },
    {
     "name": "stdout",
     "output_type": "stream",
     "text": [
      "Testing config: chunk_size=500, chunk_overlap=100\n",
      "Testing config: chunk_size=200, chunk_overlap=50\n"
     ]
    }
   ],
   "source": [
    "chunk_configs = [\n",
    "    {\"chunk_size\": 300, \"chunk_overlap\": 100},\n",
    "    {\"chunk_size\": 500, \"chunk_overlap\": 100},\n",
    "    {\"chunk_size\": 200, \"chunk_overlap\": 50},\n",
    "]\n",
    "\n",
    "for config in chunk_configs:\n",
    "    print(f\"Testing config: chunk_size={config['chunk_size']}, chunk_overlap={config['chunk_overlap']}\")\n",
    "\n",
    "    text_splitter = RecursiveCharacterTextSplitter(\n",
    "        chunk_size=config[\"chunk_size\"], \n",
    "        chunk_overlap=config[\"chunk_overlap\"]\n",
    "    )\n",
    "    docs = text_splitter.split_documents(documents)\n",
    "    vectorstore = FAISS.from_documents(documents=docs, embedding=embeddings)\n",
    "\n",
    "    query = \"What are the key points discussed in the documents?\"\n",
    "    retriever = vectorstore.as_retriever()\n",
    "    results = retriever.get_relevant_documents(query)"
   ]
  },
  {
   "cell_type": "markdown",
   "metadata": {},
   "source": [
    "Conclusion\n",
    "\n",
    "Congratulations! You’ve built a simple Retrieval-Augmented Generation system using LangChain. This system can retrieve relevant information from documents and generate answers to user queries.\n",
    "\n",
    "Help\n",
    "\n",
    "- TextLoader: Loads text data from files.\n",
    "- RecursiveCharacterTextSplitter: Splits text into smaller chunks for better processing.\n",
    "- FAISS: A library for efficient similarity search of embeddings.\n",
    "- RetrievalQA Chain: A chain that retrieves relevant documents and answers questions based on them.\n",
    "- OpenAIEmbeddings: Generates embeddings that capture the semantic meaning of text."
   ]
  },
  {
   "cell_type": "markdown",
   "metadata": {},
   "source": [
    "## Help"
   ]
  },
  {
   "cell_type": "code",
   "execution_count": 9,
   "metadata": {},
   "outputs": [],
   "source": [
    "from langchain_core.prompts import ChatPromptTemplate\n",
    "\n",
    "template = ChatPromptTemplate([\n",
    "    (\"system\", \"You are a helpful AI bot. Your name is {name}.\"),\n",
    "    (\"human\", \"Hello, how are you doing?\"),\n",
    "    (\"ai\", \"I'm doing well, thanks!\"),\n",
    "    (\"human\", \"{user_input}\"),\n",
    "])\n",
    "\n",
    "prompt_value = template.invoke(\n",
    "    {\n",
    "        \"name\": \"Bob\",\n",
    "        \"user_input\": \"What is your name?\"\n",
    "    }\n",
    ")\n",
    "\n",
    "# Output:\n",
    "# ChatPromptValue(\n",
    "#    messages=[\n",
    "#        SystemMessage(content='You are a helpful AI bot. Your name is Bob.'),\n",
    "#        HumanMessage(content='Hello, how are you doing?'),\n",
    "#        AIMessage(content=\"I'm doing well, thanks!\"),\n",
    "#        HumanMessage(content='What is your name?')\n",
    "#    ]\n",
    "#)"
   ]
  }
 ],
 "metadata": {
  "kernelspec": {
   "display_name": "aicha_genai",
   "language": "python",
   "name": "python3"
  },
  "language_info": {
   "codemirror_mode": {
    "name": "ipython",
    "version": 3
   },
   "file_extension": ".py",
   "mimetype": "text/x-python",
   "name": "python",
   "nbconvert_exporter": "python",
   "pygments_lexer": "ipython3",
   "version": "3.12.5"
  }
 },
 "nbformat": 4,
 "nbformat_minor": 2
}
